{
 "cells": [
  {
   "cell_type": "code",
   "execution_count": 1,
   "metadata": {},
   "outputs": [],
   "source": [
    "#Import Libraries\n",
    "import pandas as pd\n",
    "import numpy as np\n",
    "import matplotlib.pyplot as plt"
   ]
  },
  {
   "cell_type": "code",
   "execution_count": 2,
   "metadata": {},
   "outputs": [],
   "source": [
    "np.set_printoptions(precision=3, suppress=True)"
   ]
  },
  {
   "cell_type": "code",
   "execution_count": 3,
   "metadata": {},
   "outputs": [
    {
     "name": "stdout",
     "output_type": "stream",
     "text": [
      "(469338, 16) (117334, 16) (469338, 1) (117334, 1) (1, 16)\n"
     ]
    }
   ],
   "source": [
    "#Read Data\n",
    "data = pd.read_csv(\"processed_database_2.csv\", low_memory=False)\n",
    "\n",
    "#Features List\n",
    "features = data.iloc[:, 1:].columns.tolist()\n",
    "\n",
    "data_train = data.sample(frac=0.8)\n",
    "data_test = data.drop(index=data_train.index)\n",
    "\n",
    "X_train = data_train.iloc[:, 1:].reset_index(drop=True)\n",
    "X_test = data_test.iloc[:, 1:].reset_index(drop=True)\n",
    "\n",
    "X_train.insert(0, \"ones\", np.ones((X_train.shape[0],1)))\n",
    "X_test.insert(0, \"ones\", np.ones((X_test.shape[0],1)))\n",
    "\n",
    "Y_train = data_train.iloc[:, :1].values\n",
    "Y_test = data_test.iloc[:, :1].values\n",
    "\n",
    "beta = np.zeros([1, len(features)+1])\n",
    "\n",
    "print(X_train.shape, X_test.shape, Y_train.shape, Y_test.shape, beta.shape)"
   ]
  },
  {
   "cell_type": "code",
   "execution_count": 4,
   "metadata": {},
   "outputs": [],
   "source": [
    "def mse(Y_true, Y_pred):\n",
    "    mse_ = np.mean((Y_true-Y_pred) ** 2)\n",
    "    return mse_"
   ]
  },
  {
   "cell_type": "code",
   "execution_count": 5,
   "metadata": {},
   "outputs": [],
   "source": [
    "def gradient_descent(\n",
    "    X_train, Y_train, beta, iterations, learning_rate, patience=10, min_delta=1e-3\n",
    "):\n",
    "    n = len(X_train)\n",
    "    best_cost = np.inf\n",
    "    patience_counter = 0\n",
    "\n",
    "    costs = []\n",
    "    for i in range(iterations):\n",
    "        Y_pred = np.dot(X_train, beta.T)\n",
    "\n",
    "        cost = mse(Y_train, Y_pred)\n",
    "        costs.append(cost)\n",
    "\n",
    "        gradient = (1 / n) * np.dot(X_train.T, (Y_pred - Y_train))\n",
    "\n",
    "        beta -= learning_rate * gradient.T\n",
    "\n",
    "        if (i + 1) % 100 == 0:\n",
    "            print(f\"Iteration: {i+1}, Training Cost: {round(cost, 5)}\")\n",
    "\n",
    "        if cost + min_delta < best_cost:\n",
    "            patience_counter = 0\n",
    "            best_cost = cost\n",
    "        else:\n",
    "            patience_counter += 1\n",
    "            if patience_counter >= patience:\n",
    "                print(f\"Early stop at iteration {i}. Training Cost: {round(cost, 5)}\")\n",
    "                break\n",
    "\n",
    "    return beta, costs"
   ]
  },
  {
   "cell_type": "code",
   "execution_count": 6,
   "metadata": {},
   "outputs": [
    {
     "name": "stdout",
     "output_type": "stream",
     "text": [
      "Iteration: 100, Training Cost: 918.28403\n",
      "Iteration: 200, Training Cost: 779.80576\n",
      "Iteration: 300, Training Cost: 671.77956\n",
      "Iteration: 400, Training Cost: 586.07859\n",
      "Iteration: 500, Training Cost: 517.31111\n",
      "Iteration: 600, Training Cost: 461.71288\n",
      "Iteration: 700, Training Cost: 416.53751\n",
      "Iteration: 800, Training Cost: 379.70984\n",
      "Iteration: 900, Training Cost: 349.62078\n",
      "Iteration: 1000, Training Cost: 324.99961\n",
      "Iteration: 1100, Training Cost: 304.83037\n",
      "Iteration: 1200, Training Cost: 288.29403\n",
      "Iteration: 1300, Training Cost: 274.72674\n",
      "Iteration: 1400, Training Cost: 263.58854\n",
      "Iteration: 1500, Training Cost: 254.4392\n",
      "Iteration: 1600, Training Cost: 246.91924\n",
      "Iteration: 1700, Training Cost: 240.73481\n",
      "Iteration: 1800, Training Cost: 235.64557\n",
      "Iteration: 1900, Training Cost: 231.45475\n",
      "Iteration: 2000, Training Cost: 228.00127\n",
      "Iteration: 2100, Training Cost: 225.15316\n",
      "Iteration: 2200, Training Cost: 222.8023\n",
      "Iteration: 2300, Training Cost: 220.86006\n",
      "Iteration: 2400, Training Cost: 219.25377\n",
      "Iteration: 2500, Training Cost: 217.92384\n",
      "Iteration: 2600, Training Cost: 216.82136\n",
      "Iteration: 2700, Training Cost: 215.90623\n",
      "Iteration: 2800, Training Cost: 215.14548\n",
      "Iteration: 2900, Training Cost: 214.51207\n",
      "Iteration: 3000, Training Cost: 213.98377\n",
      "Iteration: 3100, Training Cost: 213.5423\n"
     ]
    }
   ],
   "source": [
    "final_beta, costs = gradient_descent(X_train, Y_train, beta, iterations=10000, learning_rate=0.001)\n",
    "print(f\"Final beta: \\n{final_beta}\")"
   ]
  },
  {
   "cell_type": "code",
   "execution_count": null,
   "metadata": {},
   "outputs": [],
   "source": [
    "fig, ax = plt.subplots()\n",
    "ax.plot(np.arange(len(costs)), costs, \"b\")\n",
    "ax.set_xlabel(\"Iterations\")\n",
    "ax.set_ylabel(\"Cost\")\n",
    "ax.set_title(\"Iteration vs Cost (Neural Network)\")\n",
    "\n",
    "fig.savefig(\"neural_cost\")"
   ]
  },
  {
   "cell_type": "code",
   "execution_count": null,
   "metadata": {},
   "outputs": [
    {
     "data": {
      "text/plain": [
       "Text(0.5, 1.0, 'Iteration vs Cost')"
      ]
     },
     "execution_count": 13,
     "metadata": {},
     "output_type": "execute_result"
    },
    {
     "data": {
      "image/png": "[encoded data removed]",
      "text/plain": [
       "<Figure size 640x480 with 1 Axes>"
      ]
     },
     "metadata": {},
     "output_type": "display_data"
    }
   ],
   "source": [
    "fig, ax = plt.subplots()\n",
    "ax.plot(np.arange(len(costs)), costs, \"r\")\n",
    "ax.set_xlabel(\"Iterations\")\n",
    "ax.set_ylabel(\"Cost\")\n",
    "ax.set_title(\"Iteration vs Cost\")"
   ]
  },
  {
   "cell_type": "code",
   "execution_count": null,
   "metadata": {},
   "outputs": [],
   "source": [
    "Y_pred_train = np.dot(X_train, final_beta.T)\n",
    "residuals_train = Y_train.T - Y_pred_train\n",
    "train_cost = mse(Y_train.T, Y_pred_train)\n",
    "print(f\"Training cost: {np.squeeze(train_cost).round(2)}\")\n",
    "\n",
    "fig, ax = plt.subplots()\n",
    "ax.scatter(Y_train, Y_pred_train, (0.01))\n",
    "ax.set_xlabel(\"Actual Value\")\n",
    "ax.set_ylabel(\"Predicted Value\")\n",
    "ax.set_title(\"Actual vs Prediction (Linear Regression, Train)\")\n",
    "\n",
    "ax.plot(np.arange(100), np.arange(100), \"r\")\n",
    "fig.savefig(\"linear_train_pred\")\n",
    "\n",
    "\n",
    "fig, ax = plt.subplots()\n",
    "ax.set_autoscale_on(False)\n",
    "ax.scatter(Y_train, residuals_train, (0.01))\n",
    "ax.set_xbound(-50, 100)\n",
    "ax.set_ybound(-100, 100)\n",
    "ax.set_xlabel(\"Predicted Value\")\n",
    "ax.set_ylabel(\"Residual\")\n",
    "ax.set_title(\"Predicted Value vs Residual (Linear Regression, Train)\")\n",
    "\n",
    "ax.plot(np.arange(150)-50, np.zeros((150,)), \"black\")\n",
    "\n",
    "fig.savefig(\"linear_train_resd\")"
   ]
  },
  {
   "cell_type": "code",
   "execution_count": null,
   "metadata": {},
   "outputs": [],
   "source": [
    "Y_pred_test = np.dot(X_test, final_beta.T)\n",
    "residuals_test = Y_test.T - Y_pred_test\n",
    "test_cost = mse(Y_test.T, Y_pred_test)\n",
    "print(f\"Training cost: {np.squeeze(test_cost).round(2)}\")\n",
    "\n",
    "fig, ax = plt.subplots()\n",
    "ax.scatter(Y_test, Y_pred_test, (0.01))\n",
    "ax.set_xlabel(\"Actual Value\")\n",
    "ax.set_ylabel(\"Predicted Value\")\n",
    "ax.set_title(\"Actual vs Prediction (Linear Regression, Test)\")\n",
    "\n",
    "ax.plot(np.arange(100), np.arange(100), \"r\")\n",
    "fig.savefig(\"linear_test_pred\")\n",
    "\n",
    "\n",
    "fig, ax = plt.subplots()\n",
    "ax.set_autoscale_on(False)\n",
    "ax.scatter(Y_pred_test, residuals_test, (0.01))\n",
    "ax.set_xbound(-50, 100)\n",
    "ax.set_ybound(-100, 100)\n",
    "ax.set_xlabel(\"Predicted Value\")\n",
    "ax.set_ylabel(\"Residual\")\n",
    "ax.set_title(\"Predicted Value vs Residual (Linear Regression, Test)\")\n",
    "\n",
    "ax.plot(np.arange(150)-50, np.zeros((150,)), \"black\")\n",
    "\n",
    "fig.savefig(\"linear_test_resd\")"
   ]
  }
 ],
 "metadata": {
  "kernelspec": {
   "display_name": "Python 3",
   "language": "python",
   "name": "python3"
  },
  "language_info": {
   "codemirror_mode": {
    "name": "ipython",
    "version": 3
   },
   "file_extension": ".py",
   "mimetype": "text/x-python",
   "name": "python",
   "nbconvert_exporter": "python",
   "pygments_lexer": "ipython3",
   "version": "3.11.3"
  },
  "orig_nbformat": 4,
  "vscode": {
   "interpreter": {
    "hash": "b884cd3834b45e97c2c4fae50fd751c5823ae7720d5b9a16c16ce6076342eebe"
   }
  }
 },
 "nbformat": 4,
 "nbformat_minor": 2
}
